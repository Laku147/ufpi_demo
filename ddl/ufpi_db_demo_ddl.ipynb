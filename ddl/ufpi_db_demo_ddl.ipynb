{
 "cells": [
  {
   "cell_type": "code",
   "execution_count": 0,
   "metadata": {
    "application/vnd.databricks.v1+cell": {
     "cellMetadata": {
      "byteLimit": 2048000,
      "implicitDf": true,
      "rowLimit": 10000
     },
     "inputWidgets": {},
     "nuid": "c21958a5-b55f-4aff-8d9e-fe93b52c5979",
     "showTitle": false,
     "tableResultSettingsMap": {},
     "title": ""
    }
   },
   "outputs": [],
   "source": [
    "CREATE DATABASE bronze_ufpi.ufpi_db_demo_raw\n"
   ]
  },
  {
   "cell_type": "code",
   "execution_count": 0,
   "metadata": {
    "application/vnd.databricks.v1+cell": {
     "cellMetadata": {
      "byteLimit": 2048000,
      "rowLimit": 10000
     },
     "inputWidgets": {},
     "nuid": "6a844e78-2cd4-4aa3-be7a-716a332911b8",
     "showTitle": false,
     "tableResultSettingsMap": {},
     "title": ""
    }
   },
   "outputs": [],
   "source": [
    "CREATE TABLE bronze_ufpi.ufpi_db_demo_raw.line_item\n",
    "(\n",
    "    id            BIGINT GENERATED ALWAYS AS IDENTITY PRIMARY KEY,\n",
    "    product_id    INT       NOT NULL,\n",
    "    promotion_ids ARRAY<INT>,\n",
    "    quantity      INT       NOT NULL,\n",
    "    updated_at    TIMESTAMP NOT NULLppp\n",
    ");"
   ]
  },
  {
   "cell_type": "code",
   "execution_count": 0,
   "metadata": {
    "application/vnd.databricks.v1+cell": {
     "cellMetadata": {
      "byteLimit": 2048000,
      "rowLimit": 10000
     },
     "inputWidgets": {},
     "nuid": "899700a3-4a4c-462f-bf44-f6452d968251",
     "showTitle": false,
     "tableResultSettingsMap": {},
     "title": ""
    }
   },
   "outputs": [],
   "source": [
    "CREATE TABLE bronze_ufpi.ufpi_db_demo_raw.address\n",
    "(\n",
    "    id              BIGINT GENERATED ALWAYS AS IDENTITY PRIMARY KEY,\n",
    "    street          VARCHAR(255)                        NOT NULL,\n",
    "    state           VARCHAR(130),\n",
    "    country         VARCHAR(130)                        NOT NULL,\n",
    "    zip             VARCHAR(20),\n",
    "    timezone_offset SMALLINT,\n",
    "    updated_at      TIMESTAMP NOT NULL\n",
    ");"
   ]
  },
  {
   "cell_type": "code",
   "execution_count": 0,
   "metadata": {
    "application/vnd.databricks.v1+cell": {
     "cellMetadata": {
      "byteLimit": 2048000,
      "rowLimit": 10000
     },
     "inputWidgets": {},
     "nuid": "c17dc06c-232b-4f20-a7e9-19118d212dd6",
     "showTitle": false,
     "tableResultSettingsMap": {},
     "title": ""
    }
   },
   "outputs": [],
   "source": [
    "CREATE TABLE bronze_ufpi.ufpi_db_demo_raw.customer\n",
    "(\n",
    "    id                   BIGINT GENERATED ALWAYS AS IDENTITY PRIMARY KEY,\n",
    "    company_name         VARCHAR(255) NOT NULL,\n",
    "    email                VARCHAR(100) NOT NULL,\n",
    "    phone                VARCHAR(20),\n",
    "    industry             VARCHAR(50),\n",
    "    delivery_address_id  BIGINT,\n",
    "    corporate_address_id BIGINT,\n",
    "    created_at           TIMESTAMP    NOT NULL,\n",
    "    updated_at           TIMESTAMP    NOT NULL,\n",
    "\n",
    "    CONSTRAINT fk_customer_delivery_address\n",
    "        FOREIGN KEY (delivery_address_id) REFERENCES bronze_ufpi.ufpi_db_demo_raw.address (id),\n",
    "    CONSTRAINT fk_customer_corporate_address\n",
    "        FOREIGN KEY (corporate_address_id) REFERENCES bronze_ufpi.ufpi_db_demo_raw.address (id)\n",
    ");"
   ]
  },
  {
   "cell_type": "code",
   "execution_count": 0,
   "metadata": {
    "application/vnd.databricks.v1+cell": {
     "cellMetadata": {
      "byteLimit": 2048000,
      "rowLimit": 10000
     },
     "inputWidgets": {},
     "nuid": "cefe3997-f6ea-41b1-a3fc-f2c9debccc16",
     "showTitle": false,
     "tableResultSettingsMap": {},
     "title": ""
    }
   },
   "outputs": [],
   "source": [
    "CREATE TABLE bronze_ufpi.ufpi_db_demo_raw.promotion\n",
    "(\n",
    "    id                    BIGINT GENERATED ALWAYS AS IDENTITY PRIMARY KEY,\n",
    "    promotion_description VARCHAR(255)   NOT NULL,\n",
    "    start_time            TIMESTAMP      NOT NULL,\n",
    "    end_time              TIMESTAMP      NOT NULL,\n",
    "    discount_amount       NUMERIC(10, 2) NOT NULL,\n",
    "    updated_at            TIMESTAMP\n",
    ");"
   ]
  },
  {
   "cell_type": "code",
   "execution_count": 0,
   "metadata": {
    "application/vnd.databricks.v1+cell": {
     "cellMetadata": {
      "byteLimit": 2048000,
      "rowLimit": 10000
     },
     "inputWidgets": {},
     "nuid": "cfa54ae2-0e40-4f1e-9c68-a5f4a80a93d1",
     "showTitle": false,
     "tableResultSettingsMap": {},
     "title": ""
    }
   },
   "outputs": [],
   "source": [
    "CREATE TABLE bronze_ufpi.ufpi_db_demo_raw.orders\n",
    "(\n",
    "    id              BIGINT GENERATED ALWAYS AS IDENTITY PRIMARY KEY,\n",
    "    customer_id     BIGINT        NOT NULL,\n",
    "\n",
    "    line_items      ARRAY<STRING>         NOT NULL,\n",
    "    shipping_status VARCHAR(50),\n",
    "    payment_type    VARCHAR(50),\n",
    "\n",
    "    total_price     NUMERIC(10, 2) NOT NULL,\n",
    "    total_tax       NUMERIC(10, 2) NOT NULL,\n",
    "    shipping_cost   NUMERIC(10, 2),\n",
    "    currency        VARCHAR(3),\n",
    "\n",
    "    created_at      TIMESTAMP      NOT NULL,\n",
    "    updated_at      TIMESTAMP      NOT NULL,\n",
    "\n",
    "    CONSTRAINT fk_orders_customer\n",
    "        FOREIGN KEY (customer_id) REFERENCES bronze_ufpi.ufpi_db_demo_raw.customer (id)\n",
    ");"
   ]
  }
 ],
 "metadata": {
  "application/vnd.databricks.v1+notebook": {
   "computePreferences": null,
   "dashboards": [],
   "environmentMetadata": {
    "base_environment": "",
    "environment_version": "3"
   },
   "inputWidgetPreferences": null,
   "language": "sql",
   "notebookMetadata": {
    "mostRecentlyExecutedCommandWithImplicitDF": {
     "commandId": 7135976620548837,
     "dataframes": [
      "_sqldf"
     ]
    },
    "pythonIndentUnit": 4
   },
   "notebookName": "ufpi_db_demo_ddl",
   "widgets": {}
  },
  "language_info": {
   "name": "sql"
  }
 },
 "nbformat": 4,
 "nbformat_minor": 0
}
